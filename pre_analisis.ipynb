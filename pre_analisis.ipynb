{
 "cells": [
  {
   "cell_type": "markdown",
   "metadata": {},
   "source": [
    "### Entidades tipo de  estructura a implementar\n"
   ]
  },
  {
   "cell_type": "markdown",
   "metadata": {},
   "source": [
    "(nombre,idpadre)\n",
    "(nombre,idpadre)\n",
    "(nombre,idpadre)\n",
    "\n",
    "\n",
    "n cantidad de niveles\n",
    "\n",
    "id 1 (institucion,raiz)\n",
    "    id 2 (formacion academica, id 1)\n",
    "        id 3 (modulos x, id 2)\n",
    "            id 4 (clase k , id 3)\n",
    "            . . . . . .. . .\n",
    "\n",
    "TEMAS |   Titulo    |   IdPadre    |"
   ]
  },
  {
   "cell_type": "markdown",
   "metadata": {},
   "source": [
    "temas_preguntas ------>> > > > |  idTema     |    idPregunta     |"
   ]
  },
  {
   "cell_type": "markdown",
   "metadata": {},
   "source": [
    "quiz -> volatil (futuro cercano guarlado en la base datos)\n",
    "preg- > n Respuestas"
   ]
  },
  {
   "cell_type": "markdown",
   "metadata": {},
   "source": [
    "##### que hay que hacer ?  (codigo)\n",
    "###### modelos TEMAS , preguntas (agregar campo) Filefield() ,Temas_preguntas (Modelo de ids)\n",
    "###### Crear funcionalidades para la estructuracion de los datos , como tambien la creacion de las funcionalidades del armado del quiz"
   ]
  },
  {
   "cell_type": "code",
   "execution_count": null,
   "metadata": {},
   "outputs": [],
   "source": []
  },
  {
   "cell_type": "code",
   "execution_count": null,
   "metadata": {},
   "outputs": [],
   "source": []
  }
 ],
 "metadata": {
  "kernelspec": {
   "display_name": "Python 3",
   "language": "python",
   "name": "python3"
  },
  "language_info": {
   "codemirror_mode": {
    "name": "ipython",
    "version": 3
   },
   "file_extension": ".py",
   "mimetype": "text/x-python",
   "name": "python",
   "nbconvert_exporter": "python",
   "pygments_lexer": "ipython3",
   "version": "3.7.0"
  }
 },
 "nbformat": 4,
 "nbformat_minor": 4
}
