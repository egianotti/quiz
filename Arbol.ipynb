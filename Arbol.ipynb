{
 "cells": [
  {
   "cell_type": "code",
   "execution_count": 2,
   "metadata": {},
   "outputs": [],
   "source": [
    "temas = {\n",
    "    \"tema0001\":(\"Coursera\",\"raiz\"),\n",
    "    \"tema0002\":(\"Udemy\",\"raiz\"),\n",
    "    \"tema0003\":(\"CGFIUBA\",\"raiz\"),\n",
    "    \"tema0004\":(\"Especializaciones\",\"tema0001\"),\n",
    "    \"tema0005\":(\"Cursos\",\"tema0001\"),\n",
    "    \"tema0006\":(\"Deep Learning\",\"tema0004\"),\n",
    "    \"tema0007\":(\"Big Data\",\"tema0004\"),\n",
    "    \"tema0008\":(\"Curso 1\",\"tema0006\"),\n",
    "    \"tema0009\":(\"Curso 2\",\"tema0006\"),\n",
    "    \"tema0010\":(\"Curso 3\",\"tema0006\"),\n",
    "    \"tema0011\":(\"Curso 5\",\"tema0006\"),\n",
    "    \"tema0012\":(\"Curso 5\",\"tema0006\"),\n",
    "    \"tema0013\":(\"Curso 1\",\"tema0007\"),\n",
    "    \"tema0014\":(\"Curso 2\",\"tema0007\"),\n",
    "    \"tema0015\":(\"Curso 3\",\"tema0007\"),\n",
    "    \"tema0016\":(\"Curso 4\",\"tema0007\"),\n",
    "    \"tema0017\":(\"Curso 5\",\"tema0007\"),\n",
    "    \"tema0018\":(\"Curso 6\",\"tema0007\"),   \n",
    "}"
   ]
  },
  {
   "cell_type": "code",
   "execution_count": 3,
   "metadata": {},
   "outputs": [
    {
     "name": "stdout",
     "output_type": "stream",
     "text": [
      "{'raiz', 'tema0007', 'tema0006', 'tema0004', 'tema0001'}\n"
     ]
    }
   ],
   "source": [
    "padres = set()\n",
    "for cursos in temas.values():\n",
    "    padres.add(cursos[1])\n",
    "print(padres)    "
   ]
  },
  {
   "cell_type": "code",
   "execution_count": 4,
   "metadata": {},
   "outputs": [
    {
     "name": "stdout",
     "output_type": "stream",
     "text": [
      "HIJOS\n",
      "raiz\n",
      "['tema0001', 'tema0002', 'tema0003']\n",
      "tema0007\n",
      "['tema0013', 'tema0014', 'tema0015', 'tema0016', 'tema0017', 'tema0018']\n",
      "tema0006\n",
      "['tema0008', 'tema0009', 'tema0010', 'tema0011', 'tema0012']\n",
      "tema0004\n",
      "['tema0006', 'tema0007']\n",
      "tema0001\n",
      "['tema0004', 'tema0005']\n"
     ]
    }
   ],
   "source": [
    "hijos = {}\n",
    "for padre in padres:\n",
    "    hijos[padre] = []   \n",
    "for hijo in temas.keys():\n",
    "    hijos[temas[hijo][1]].append([hijo][0])\n",
    "print(\"HIJOS\")\n",
    "for key,values in hijos.items():\n",
    "    print (key)\n",
    "    print (values)"
   ]
  },
  {
   "cell_type": "code",
   "execution_count": 24,
   "metadata": {},
   "outputs": [
    {
     "name": "stdout",
     "output_type": "stream",
     "text": [
      "Camino Raíz\n",
      "\n",
      "Coursera(tema0001)\n",
      "Udemy(tema0002)\n",
      "CGFIUBA(tema0003)\n"
     ]
    }
   ],
   "source": [
    "print(\"Camino Raíz\")\n",
    "print()\n",
    "click = \"raiz\"\n",
    "arbol = {}\n",
    "for iTemas in range(len(hijos[click])):\n",
    "    arbol[hijos[click][iTemas]]= temas[hijos[click][iTemas]][0] + \"(\" + hijos[click][iTemas] +  \")\"\n",
    "for i in arbol.values():\n",
    "    print(i)    "
   ]
  },
  {
   "cell_type": "code",
   "execution_count": 42,
   "metadata": {},
   "outputs": [
    {
     "name": "stdout",
     "output_type": "stream",
     "text": [
      "Tema: tema0004\n",
      "\n",
      "Coursera(tema0001) ==>Especializaciones(tema0004) ==>\n",
      "Deep Learning(tema0006)\n",
      "Big Data(tema0007)\n"
     ]
    }
   ],
   "source": [
    "click = input(\"Tema: \")\n",
    "print()\n",
    "camino = []\n",
    "camino.append(temas[click][0] + \"(\" + click  +\")\")\n",
    "padre = temas[click][1]\n",
    "while padre != \"raiz\" :\n",
    "    camino.append(temas[padre][0] + \"(\" + padre  +\")\")\n",
    "    padre = temas[padre][1]\n",
    "camino = camino[::-1]\n",
    "for i in camino:\n",
    "    print(i  ,end = \" ==>\")\n",
    "print()    \n",
    "for curso in hijos[click]:\n",
    "    print(temas[curso][0] + \"(\" + curso  +\")\")"
   ]
  }
 ],
 "metadata": {
  "kernelspec": {
   "display_name": "Python 3",
   "language": "python",
   "name": "python3"
  },
  "language_info": {
   "codemirror_mode": {
    "name": "ipython",
    "version": 3
   },
   "file_extension": ".py",
   "mimetype": "text/x-python",
   "name": "python",
   "nbconvert_exporter": "python",
   "pygments_lexer": "ipython3",
   "version": "3.7.6"
  }
 },
 "nbformat": 4,
 "nbformat_minor": 4
}
